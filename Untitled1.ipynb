{
 "cells": [
  {
   "cell_type": "code",
   "execution_count": 36,
   "metadata": {},
   "outputs": [
    {
     "name": "stdout",
     "output_type": "stream",
     "text": [
      "[[ 1 -1]\n",
      " [-1  5]] \n",
      " [[-1]\n",
      " [ 1]] \n",
      " [[-2]\n",
      " [ 6]]\n"
     ]
    },
    {
     "data": {
      "text/plain": [
       "matrix([[1.25, 0.25],\n",
       "        [0.25, 0.25]])"
      ]
     },
     "execution_count": 36,
     "metadata": {},
     "output_type": "execute_result"
    }
   ],
   "source": [
    "import numpy as np\n",
    "\n",
    "a = np.mat([[1,-1], [-1,5]])\n",
    "b = np.mat([-1,1]).reshape(2,1)\n",
    "\n",
    "print(a,\"\\n\", b,\"\\n\", a*b)\n",
    "a**-1"
   ]
  }
 ],
 "metadata": {
  "kernelspec": {
   "display_name": "Python 3",
   "language": "python",
   "name": "python3"
  },
  "language_info": {
   "codemirror_mode": {
    "name": "ipython",
    "version": 3
   },
   "file_extension": ".py",
   "mimetype": "text/x-python",
   "name": "python",
   "nbconvert_exporter": "python",
   "pygments_lexer": "ipython3",
   "version": "3.7.6"
  }
 },
 "nbformat": 4,
 "nbformat_minor": 4
}
