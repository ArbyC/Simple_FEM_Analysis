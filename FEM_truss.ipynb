{
 "cells": [
  {
   "cell_type": "code",
   "execution_count": 10,
   "metadata": {},
   "outputs": [],
   "source": [
    "import numpy as np"
   ]
  },
  {
   "cell_type": "code",
   "execution_count": 11,
   "metadata": {},
   "outputs": [],
   "source": [
    "def truss_kl(i, prop, geom, connec):\n",
    "    Ei = prop[i,0]\n",
    "    Ai = prop[i,1]\n",
    "    \n",
    "    x1, y1 = geom[connec[i, 0]-1]\n",
    "    x2, y2 = geom[connec[i, 1]-1]\n",
    "    \n",
    "    l = np.sqrt((x2-x1)**2 + (y2-y1)**2)\n",
    "    \n",
    "    kl= np.mat([[Ei*Ai/l, 0, -Ei*Ai/l, 0],\n",
    "                 [0, 0, 0, 0,],\n",
    "                 [-Ei*Ai/l, 0, Ei*Ai/l, 0],\n",
    "                 [0, 0, 0, 0,]])\n",
    "    \n",
    "    if x2-x1 == 0:\n",
    "        theta = ((y2-y1)/abs(y2-y1))*2*np.arctan(1)\n",
    "    else:\n",
    "        theta=np.arctan((y2-y1)/(x2-x1))\n",
    "        \n",
    "    rcor = np.mat([[np.cos(theta), np.sin(theta)], \n",
    "                    [-np.sin(theta), np.cos(theta)]]) * np.mat([(x2-x1), (y2-y1)]).reshape(2,1)\n",
    "    \n",
    "    c = np.mat([[np.cos(theta), -np.sin(theta), 0, 0],\n",
    "                [np.sin(theta), np.cos(theta), 0, 0],\n",
    "                [0, 0, np.cos(theta), -np.sin(theta)],\n",
    "                [0, 0, np.sin(theta), np.cos(theta)]]),\n",
    "    \n",
    "    return (kl, c, rcor)"
   ]
  },
  {
   "cell_type": "code",
   "execution_count": 39,
   "metadata": {},
   "outputs": [
    {
     "data": {
      "text/plain": [
       "[9.0, 10.0, 6.0, 9.0]"
      ]
     },
     "execution_count": 39,
     "metadata": {},
     "output_type": "execute_result"
    }
   ],
   "source": [
    "def truss_g(i, connec, nf):\n",
    "    node_1, node_2 = connec[i]\n",
    "    g = [nf[node_1, 0], nf[node_1, 1], nf[node_2, 0], nf[node_1, 0]]\n",
    "    return g\n",
    "\n",
    "truss_g(14, connec, nf)"
   ]
  },
  {
   "cell_type": "code",
   "execution_count": 26,
   "metadata": {},
   "outputs": [],
   "source": [
    "def form_kk(KK, kg, g, eldof):\n",
    "    for i in range(eldof):\n",
    "        if g[i] != 0:\n",
    "            for j in range(eldof):\n",
    "                if g[j] != 0:\n",
    "#                     print(int(g[i]), int(g[j]))\n",
    "                    KK[int(g[i]), int(g[j])] = KK[int(g[i]), int(g[j])] + kg[i,j]\n",
    "                    \n",
    "    return KK"
   ]
  },
  {
   "cell_type": "code",
   "execution_count": 45,
   "metadata": {},
   "outputs": [],
   "source": [
    "E = 30000 \n",
    "A1 = 45000\n",
    "A2 = 20000\n",
    "\n",
    "nnd = 9 #Number of nodes:\n",
    "nel = 15 #Number of elements:\n",
    "nne = 2  #Number of nodes per element:\n",
    "nodof = 2 #Number of degrees of freedom per node\n",
    "eldof = nne*nodof #Number of degrees of freedom"
   ]
  },
  {
   "cell_type": "code",
   "execution_count": 46,
   "metadata": {},
   "outputs": [],
   "source": [
    "#Nodes coordinates X and Y\n",
    "\n",
    "geom = np.zeros((nnd, 2))\n",
    "geom = np.array([[0, 0],\n",
    "                [2000, 0],\n",
    "                [4000, 0],\n",
    "                [6000, 0],\n",
    "                [8000, 0],\n",
    "                [7000, 2000],\n",
    "                [5000, 2000],\n",
    "                [3000, 2000],\n",
    "                [1000, 2000]])\n",
    "\n",
    "connec = np.zeros((nel,2))\n",
    "connec = np.array([[0, 1], #sum = odd numbers from 3 to 17 and then sum=10 and 11#\n",
    "                  [1, 2],\n",
    "                  [2, 3],\n",
    "                  [3, 4],\n",
    "                  [4, 5],\n",
    "                  [5, 6],\n",
    "                  [6, 7],\n",
    "                  [7, 8],\n",
    "                  [8, 0],\n",
    "                  [1, 8],\n",
    "                  [2, 8],\n",
    "                  [2, 7],\n",
    "                  [3, 7],\n",
    "                  [3, 6],\n",
    "                  [4, 6]])"
   ]
  },
  {
   "cell_type": "code",
   "execution_count": 47,
   "metadata": {},
   "outputs": [],
   "source": [
    "full = [0, 1, 2, 3, 5, 6, 7]\n",
    "prop = np.zeros((nel,2))\n",
    "\n",
    "\n",
    "for i in range(nel):\n",
    "    if i in full:\n",
    "        prop[i] = [E, A1]\n",
    "    else:\n",
    "        prop[i] = [E, A2]"
   ]
  },
  {
   "cell_type": "code",
   "execution_count": 49,
   "metadata": {},
   "outputs": [],
   "source": [
    "nf = np.ones((nnd, nodof)) #Initialize the matrix nf to 1\n",
    "nf[0] = [0, 0]\n",
    "nf[4] = [1, 0] #Prescribed nodal freedom of node 5\n",
    "\n",
    "n = 0\n",
    "for i in range(nnd):\n",
    "    for j in range(nodof):\n",
    "        if nf[i,j] != 0:\n",
    "            nf[i,j]=n\n",
    "            n=n+1"
   ]
  },
  {
   "cell_type": "code",
   "execution_count": 51,
   "metadata": {},
   "outputs": [],
   "source": [
    "load = np.array([[0, 0],\n",
    "                [0, -5000],\n",
    "                [0, 0],\n",
    "                [0, -10000],\n",
    "                [0, 0],\n",
    "                [0, 0],\n",
    "                [0, 0],\n",
    "                [0, -7000],\n",
    "                [15000, 0]])"
   ]
  },
  {
   "cell_type": "code",
   "execution_count": 56,
   "metadata": {},
   "outputs": [],
   "source": [
    "#global force matrix\n",
    "fg = np.zeros((n,1));\n",
    "for i in range(nnd):\n",
    "    for j in range(nodof):\n",
    "        if nf[i,j] != 0:\n",
    "            fg[int(nf[i,j])] = fg[int(nf[i,j])] + load[i,j]"
   ]
  },
  {
   "cell_type": "code",
   "execution_count": 81,
   "metadata": {},
   "outputs": [],
   "source": [
    "# #global assembled stiffness matrix\n",
    "kk = np.zeros((n,n))\n",
    "rcord = np.zeros((nel,2))\n",
    "\n",
    "for i in range(nel):\n",
    "    (kl, c, rcor) = truss_kl(i, prop, geom, connec)\n",
    "    kg = c[0]*kl*c[0]**-1\n",
    "    g = truss_g(i, connec, nf)\n",
    "    kk = form_kk(kk, kg, g, eldof)\n",
    "    rcord[i,:] = rcor[0]"
   ]
  },
  {
   "cell_type": "code",
   "execution_count": 91,
   "metadata": {},
   "outputs": [
    {
     "name": "stderr",
     "output_type": "stream",
     "text": [
      "C:\\ProgramData\\Anaconda3\\lib\\site-packages\\ipykernel_launcher.py:1: RuntimeWarning: divide by zero encountered in true_divide\n",
      "  \"\"\"Entry point for launching an IPython kernel.\n",
      "C:\\ProgramData\\Anaconda3\\lib\\site-packages\\ipykernel_launcher.py:1: RuntimeWarning: invalid value encountered in true_divide\n",
      "  \"\"\"Entry point for launching an IPython kernel.\n",
      "C:\\ProgramData\\Anaconda3\\lib\\site-packages\\numpy\\matrixlib\\defmatrix.py:195: FutureWarning: Using a non-tuple sequence for multidimensional indexing is deprecated; use `arr[tuple(seq)]` instead of `arr[seq]`. In the future this will be interpreted as an array index, `arr[np.array(seq)]`, which will result either in an error or a different result.\n",
      "  out = N.ndarray.__getitem__(self, index)\n"
     ]
    },
    {
     "ename": "IndexError",
     "evalue": "arrays used as indices must be of integer (or boolean) type",
     "output_type": "error",
     "traceback": [
      "\u001b[1;31m---------------------------------------------------------------------------\u001b[0m",
      "\u001b[1;31mIndexError\u001b[0m                                Traceback (most recent call last)",
      "\u001b[1;32m<ipython-input-91-d1b6f69f538c>\u001b[0m in \u001b[0;36m<module>\u001b[1;34m\u001b[0m\n\u001b[0;32m      5\u001b[0m     \u001b[1;32mfor\u001b[0m \u001b[0mj\u001b[0m \u001b[1;32min\u001b[0m \u001b[0mrange\u001b[0m\u001b[1;33m(\u001b[0m\u001b[0mnodof\u001b[0m\u001b[1;33m)\u001b[0m\u001b[1;33m:\u001b[0m\u001b[1;33m\u001b[0m\u001b[1;33m\u001b[0m\u001b[0m\n\u001b[0;32m      6\u001b[0m         \u001b[1;32mif\u001b[0m \u001b[0mnf\u001b[0m\u001b[1;33m[\u001b[0m\u001b[0mi\u001b[0m\u001b[1;33m,\u001b[0m\u001b[0mj\u001b[0m\u001b[1;33m]\u001b[0m \u001b[1;33m!=\u001b[0m \u001b[1;36m0\u001b[0m\u001b[1;33m:\u001b[0m\u001b[1;33m\u001b[0m\u001b[1;33m\u001b[0m\u001b[0m\n\u001b[1;32m----> 7\u001b[1;33m             \u001b[0mdisplacement\u001b[0m\u001b[1;33m[\u001b[0m\u001b[1;33m[\u001b[0m\u001b[0mi\u001b[0m\u001b[1;33m,\u001b[0m\u001b[0mj\u001b[0m\u001b[1;33m]\u001b[0m\u001b[1;33m]\u001b[0m \u001b[1;33m=\u001b[0m \u001b[0mdelta\u001b[0m\u001b[1;33m[\u001b[0m\u001b[1;33m[\u001b[0m\u001b[0mnf\u001b[0m\u001b[1;33m[\u001b[0m\u001b[1;33m[\u001b[0m\u001b[0mi\u001b[0m\u001b[1;33m,\u001b[0m\u001b[0mj\u001b[0m\u001b[1;33m]\u001b[0m\u001b[1;33m]\u001b[0m\u001b[1;33m,\u001b[0m \u001b[1;36m0\u001b[0m\u001b[1;33m]\u001b[0m\u001b[1;33m]\u001b[0m\u001b[1;33m\u001b[0m\u001b[1;33m\u001b[0m\u001b[0m\n\u001b[0m",
      "\u001b[1;32mC:\\ProgramData\\Anaconda3\\lib\\site-packages\\numpy\\matrixlib\\defmatrix.py\u001b[0m in \u001b[0;36m__getitem__\u001b[1;34m(self, index)\u001b[0m\n\u001b[0;32m    193\u001b[0m \u001b[1;33m\u001b[0m\u001b[0m\n\u001b[0;32m    194\u001b[0m         \u001b[1;32mtry\u001b[0m\u001b[1;33m:\u001b[0m\u001b[1;33m\u001b[0m\u001b[1;33m\u001b[0m\u001b[0m\n\u001b[1;32m--> 195\u001b[1;33m             \u001b[0mout\u001b[0m \u001b[1;33m=\u001b[0m \u001b[0mN\u001b[0m\u001b[1;33m.\u001b[0m\u001b[0mndarray\u001b[0m\u001b[1;33m.\u001b[0m\u001b[0m__getitem__\u001b[0m\u001b[1;33m(\u001b[0m\u001b[0mself\u001b[0m\u001b[1;33m,\u001b[0m \u001b[0mindex\u001b[0m\u001b[1;33m)\u001b[0m\u001b[1;33m\u001b[0m\u001b[1;33m\u001b[0m\u001b[0m\n\u001b[0m\u001b[0;32m    196\u001b[0m         \u001b[1;32mfinally\u001b[0m\u001b[1;33m:\u001b[0m\u001b[1;33m\u001b[0m\u001b[1;33m\u001b[0m\u001b[0m\n\u001b[0;32m    197\u001b[0m             \u001b[0mself\u001b[0m\u001b[1;33m.\u001b[0m\u001b[0m_getitem\u001b[0m \u001b[1;33m=\u001b[0m \u001b[1;32mFalse\u001b[0m\u001b[1;33m\u001b[0m\u001b[1;33m\u001b[0m\u001b[0m\n",
      "\u001b[1;31mIndexError\u001b[0m: arrays used as indices must be of integer (or boolean) type"
     ]
    }
   ],
   "source": [
    "delta = np.mat(kk) / np.mat(fg)\n",
    "displacement = np.zeros((nnd, nodof))\n",
    "\n",
    "for i in range (nnd):\n",
    "    for j in range(nodof):\n",
    "        if nf[i,j] != 0:\n",
    "            displacement[[i,j]] = delta[[nf[[i,j]], 0]]"
   ]
  }
 ],
 "metadata": {
  "kernelspec": {
   "display_name": "Python 3",
   "language": "python",
   "name": "python3"
  },
  "language_info": {
   "codemirror_mode": {
    "name": "ipython",
    "version": 3
   },
   "file_extension": ".py",
   "mimetype": "text/x-python",
   "name": "python",
   "nbconvert_exporter": "python",
   "pygments_lexer": "ipython3",
   "version": "3.7.6"
  }
 },
 "nbformat": 4,
 "nbformat_minor": 4
}
